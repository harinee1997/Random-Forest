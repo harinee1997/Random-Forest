{
  "nbformat": 4,
  "nbformat_minor": 0,
  "metadata": {
    "colab": {
      "provenance": []
    },
    "kernelspec": {
      "name": "python3",
      "display_name": "Python 3"
    },
    "language_info": {
      "name": "python"
    }
  },
  "cells": [
    {
      "cell_type": "markdown",
      "source": [
        "#Random Forest For Classification"
      ],
      "metadata": {
        "id": "g6FuChZKH890"
      }
    },
    {
      "cell_type": "code",
      "source": [
        "import pandas as pd\n",
        "from sklearn.model_selection import train_test_split\n",
        "from sklearn.ensemble import RandomForestClassifier\n",
        "from sklearn.metrics import accuracy_score, classification_report\n",
        "import warnings\n",
        "warnings.filterwarnings('ignore')\n",
        "\n",
        "network_data = pd.read_csv('Social_Network_Ads.csv')\n",
        "\n",
        "network_data = network_data.dropna(subset=['Purchased'])\n",
        "\n",
        "X = network_data[['User ID', 'Gender', 'Age', 'EstimatedSalary', 'Purchased']]\n",
        "y = network_data['Purchased']\n",
        "\n",
        "X.loc[:, 'Gender'] = X['Gender'].map({'female': 0, 'male': 1})\n",
        "\n",
        "X.loc[:, 'Age'].fillna(X['Age'].median(), inplace=True)\n",
        "\n",
        "X_train, X_test, y_train, y_test = train_test_split(X, y, test_size=0.2, random_state=42)\n",
        "\n",
        "rf_classifier = RandomForestClassifier(n_estimators=400, random_state=42)\n",
        "\n",
        "rf_classifier.fit(X_train, y_train)\n",
        "\n",
        "y_pred = rf_classifier.predict(X_test)\n",
        "\n",
        "accuracy = accuracy_score(y_test, y_pred)\n",
        "classification_rep = classification_report(y_test, y_pred)\n",
        "\n",
        "print(f\"Accuracy: {accuracy:.2f}\")\n",
        "print(\"\\nClassification Report:\\n\", classification_rep)\n",
        "\n",
        "sample = X_test.iloc[0:1]\n",
        "prediction = rf_classifier.predict(sample)\n",
        "\n",
        "sample_dict = sample.iloc[0].to_dict()\n",
        "print(f\"\\nSample Customer: {sample_dict}\")\n",
        "print(f\"Predicted Purchase: {'Purchased' if prediction[0] == 1 else 'Did Not Purchased'}\")"
      ],
      "metadata": {
        "colab": {
          "base_uri": "https://localhost:8080/"
        },
        "id": "H9z_NuXjFoHr",
        "outputId": "7c404423-e000-48e8-e8cb-5bc105955b24"
      },
      "execution_count": 3,
      "outputs": [
        {
          "output_type": "stream",
          "name": "stdout",
          "text": [
            "Accuracy: 1.00\n",
            "\n",
            "Classification Report:\n",
            "               precision    recall  f1-score   support\n",
            "\n",
            "           0       1.00      1.00      1.00        52\n",
            "           1       1.00      1.00      1.00        28\n",
            "\n",
            "    accuracy                           1.00        80\n",
            "   macro avg       1.00      1.00      1.00        80\n",
            "weighted avg       1.00      1.00      1.00        80\n",
            "\n",
            "\n",
            "Sample Customer: {'User ID': 15697424, 'Gender': nan, 'Age': 46, 'EstimatedSalary': 22000, 'Purchased': 0}\n",
            "Predicted Purchase: Did Not Purchased\n"
          ]
        }
      ]
    }
  ]
}